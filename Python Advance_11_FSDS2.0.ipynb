{
 "cells": [
  {
   "cell_type": "code",
   "execution_count": null,
   "id": "c738cb32",
   "metadata": {},
   "outputs": [],
   "source": [
    "Q1. What is the concept of a metaclass?"
   ]
  },
  {
   "cell_type": "markdown",
   "id": "3d154d6c",
   "metadata": {},
   "source": [
    "1) A metaclass is a class that defines the behavior of other classes in Python.\n",
    "\n",
    "2) It creates classes and defines how they behave.\n",
    "\n",
    "3) Metaclasses can add or modify attributes and methods in classes.\n",
    "\n",
    "4) you can define a metaclass by creating a new class that inherits from type, which is the default metaclass for all Python classes. The __new__ method of the metaclass is responsible for creating new instances of the class. By overriding the __new__ method, you can customize how new classes are created."
   ]
  },
  {
   "cell_type": "code",
   "execution_count": null,
   "id": "2c76e8d5",
   "metadata": {},
   "outputs": [],
   "source": [
    "****************************************************************************************************************************"
   ]
  },
  {
   "cell_type": "code",
   "execution_count": null,
   "id": "605d8085",
   "metadata": {},
   "outputs": [],
   "source": [
    "Q2. What is the best way to declare a classs metaclass?"
   ]
  },
  {
   "cell_type": "markdown",
   "id": "0d3b5d01",
   "metadata": {},
   "source": [
    "1) a metaclass can declare for a class by setting the __metaclass__ attribute of the class to the desired metaclass. However, there is a shortcut way to define a metaclass using the metaclass parameter when defining the class."
   ]
  },
  {
   "cell_type": "code",
   "execution_count": 1,
   "id": "8720a5c9",
   "metadata": {},
   "outputs": [],
   "source": [
    "class MyMeta(type):\n",
    "    pass\n",
    "\n",
    "class MyClass(metaclass=MyMeta):\n",
    "    pass"
   ]
  },
  {
   "cell_type": "code",
   "execution_count": null,
   "id": "9a19aee6",
   "metadata": {},
   "outputs": [],
   "source": [
    "****************************************************************************************************************************"
   ]
  },
  {
   "cell_type": "code",
   "execution_count": null,
   "id": "66865530",
   "metadata": {},
   "outputs": [],
   "source": [
    "Q3. How do class decorators overlap with metaclasses for handling classes?"
   ]
  },
  {
   "cell_type": "markdown",
   "id": "8c5890f3",
   "metadata": {},
   "source": [
    "Both class decorators and metaclasses can be used to modify the behavior of classes in Python.\n",
    "\n",
    "Class decorators are a syntactic shortcut for modifying classes in Python. They are functions that take a class as an argument and return a modified class. When a class is defined with a decorator, it is equivalent to passing the class through the decorator function.\n",
    "\n",
    "On the other hand, metaclasses are classes that define the behavior of other classes. When a class is defined with a metaclass, the metaclass is used to create the class object.\n",
    "\n",
    "The main difference between class decorators and metaclasses is that class decorators modify an existing class object, while metaclasses create a new class object. Additionally, metaclasses provide more control over the creation and behavior of classes, while class decorators provide a simpler and more straightforward way to modify classes."
   ]
  },
  {
   "cell_type": "code",
   "execution_count": null,
   "id": "6dac50da",
   "metadata": {},
   "outputs": [],
   "source": [
    "****************************************************************************************************************************"
   ]
  },
  {
   "cell_type": "code",
   "execution_count": null,
   "id": "597cf3a3",
   "metadata": {},
   "outputs": [],
   "source": [
    "Q4. How do class decorators overlap with metaclasses for handling instances?"
   ]
  },
  {
   "cell_type": "markdown",
   "id": "2f86c7df",
   "metadata": {},
   "source": [
    "Class decorators and metaclasses are two different but related concepts in Python that can both be used to modify the behavior of classes and their instances."
   ]
  },
  {
   "cell_type": "code",
   "execution_count": null,
   "id": "e2592945",
   "metadata": {},
   "outputs": [],
   "source": [
    "@decorator_function\n",
    "class MyClass:\n",
    "    pass"
   ]
  },
  {
   "cell_type": "markdown",
   "id": "4e2efdf7",
   "metadata": {},
   "source": [
    "On the other hand, metaclasses are classes that are used to create classes. They allow you to customize the behavior of a class at the time of creation. For example:"
   ]
  },
  {
   "cell_type": "code",
   "execution_count": 5,
   "id": "e2969506",
   "metadata": {},
   "outputs": [],
   "source": [
    "class MyMetaClass(type):\n",
    "    pass\n",
    "\n",
    "class MyClass(metaclass=MyMetaClass):\n",
    "    pass"
   ]
  },
  {
   "cell_type": "markdown",
   "id": "4ff00631",
   "metadata": {},
   "source": [
    "When it comes to handling instances, both class decorators and metaclasses can be used to customize the behavior of instances of a class. Class decorators can achieve this by modifying the class's methods or attributes, while metaclasses can achieve this by modifying the class's __new__ or __init__ methods."
   ]
  },
  {
   "cell_type": "code",
   "execution_count": null,
   "id": "95ba6c66",
   "metadata": {},
   "outputs": [],
   "source": [
    "****************************************************************************************************************************"
   ]
  },
  {
   "cell_type": "code",
   "execution_count": null,
   "id": "caf1c866",
   "metadata": {},
   "outputs": [],
   "source": []
  }
 ],
 "metadata": {
  "kernelspec": {
   "display_name": "Python 3 (ipykernel)",
   "language": "python",
   "name": "python3"
  },
  "language_info": {
   "codemirror_mode": {
    "name": "ipython",
    "version": 3
   },
   "file_extension": ".py",
   "mimetype": "text/x-python",
   "name": "python",
   "nbconvert_exporter": "python",
   "pygments_lexer": "ipython3",
   "version": "3.9.13"
  }
 },
 "nbformat": 4,
 "nbformat_minor": 5
}
