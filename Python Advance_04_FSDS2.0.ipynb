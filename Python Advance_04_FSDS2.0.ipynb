{
 "cells": [
  {
   "cell_type": "code",
   "execution_count": null,
   "id": "6ac9ec59",
   "metadata": {},
   "outputs": [],
   "source": [
    "Q1. Which two operator overloading methods can you use in your classes to support iteration?"
   ]
  },
  {
   "cell_type": "markdown",
   "id": "bb223e28",
   "metadata": {},
   "source": [
    "1) __iter__(self): This method is called when an iterator object is created from an instance of your class. It should return an iterator object that defines the __next__() method, which returns the next item in the sequence.\n",
    "\n",
    "2) __next__(self): This method is called by the iterator object's __next__() method to get the next item in the sequence. It should raise the StopIteration exception when there are no more items to return."
   ]
  },
  {
   "cell_type": "code",
   "execution_count": null,
   "id": "a3ccb424",
   "metadata": {},
   "outputs": [],
   "source": [
    "************************************************************************************************************************"
   ]
  },
  {
   "cell_type": "code",
   "execution_count": null,
   "id": "db4565d1",
   "metadata": {},
   "outputs": [],
   "source": [
    "Q2. In what contexts do the two operator overloading methods manage printing?"
   ]
  },
  {
   "cell_type": "markdown",
   "id": "1277e582",
   "metadata": {},
   "source": [
    "1) __str__(self): This method is used to define the string representation of an object. It is called by the built-in str() function and also by the print() function when an object is passed as an argument. This method should return a string that represents the object in a human-readable form.\n",
    "\n",
    "2) __repr__(self): This method is used to define the string representation of an object for developers. It is called by the built-in repr() function and also by the interactive interpreter when an object is entered without being assigned to a variable. This method should return a string that represents the object in a form that can be used to recreate the object."
   ]
  },
  {
   "cell_type": "code",
   "execution_count": null,
   "id": "39ed4bfa",
   "metadata": {},
   "outputs": [],
   "source": [
    "************************************************************************************************************************"
   ]
  },
  {
   "cell_type": "code",
   "execution_count": null,
   "id": "ba6cde9d",
   "metadata": {},
   "outputs": [],
   "source": [
    "Q3. In a class, how do you intercept slice operations?"
   ]
  },
  {
   "cell_type": "markdown",
   "id": "13328758",
   "metadata": {},
   "source": [
    "In Python, you can intercept slice operations by defining the __getitem__() method in your class. This method is called whenever an instance of your class is accessed using square brackets and a slice notation."
   ]
  },
  {
   "cell_type": "code",
   "execution_count": 2,
   "id": "e20a4a5a",
   "metadata": {},
   "outputs": [],
   "source": [
    "class MyClass:\n",
    "    def __init__(self, data):\n",
    "        self.data = data\n",
    "        \n",
    "    def __getitem__(self, key):\n",
    "        if isinstance(key, slice):\n",
    "            start, stop, step = key.start, key.stop, key.step\n",
    "            # do something with the slice\n",
    "            # return the sliced data\n",
    "        else:\n",
    "            pass\n",
    "            # handle single indexing\n",
    "            # return the indexed data"
   ]
  },
  {
   "cell_type": "code",
   "execution_count": null,
   "id": "9898c54a",
   "metadata": {},
   "outputs": [],
   "source": [
    "************************************************************************************************************************"
   ]
  },
  {
   "cell_type": "code",
   "execution_count": null,
   "id": "3d6f5440",
   "metadata": {},
   "outputs": [],
   "source": [
    "Q4. In a class, how do you capture in-place addition?"
   ]
  },
  {
   "cell_type": "markdown",
   "id": "7f9db037",
   "metadata": {},
   "source": [
    "To capture in-place addition in a class, you can define a method that overloads the \"+=\" operator. This method should take another value as a parameter and update the value of the variable in the class instance in place. Here's an example in Python:"
   ]
  },
  {
   "cell_type": "code",
   "execution_count": 3,
   "id": "d35032b1",
   "metadata": {},
   "outputs": [
    {
     "name": "stdout",
     "output_type": "stream",
     "text": [
      "15\n"
     ]
    }
   ],
   "source": [
    "class MyClass:\n",
    "    def __init__(self, value):\n",
    "        self.value = value\n",
    "\n",
    "    def __iadd__(self, other):\n",
    "        self.value += other\n",
    "        return self\n",
    "\n",
    "# Example usage\n",
    "obj = MyClass(10)\n",
    "obj += 5\n",
    "print(obj.value)"
   ]
  },
  {
   "cell_type": "code",
   "execution_count": null,
   "id": "028ba474",
   "metadata": {},
   "outputs": [],
   "source": [
    "************************************************************************************************************************"
   ]
  },
  {
   "cell_type": "code",
   "execution_count": null,
   "id": "2fefc928",
   "metadata": {},
   "outputs": [],
   "source": [
    "Q5. When is it appropriate to use operator overloading?"
   ]
  },
  {
   "cell_type": "markdown",
   "id": "081117db",
   "metadata": {},
   "source": [
    "\n",
    "1) Operator overloading is a feature in many programming languages that allows operators such as +, -, *, / to have different meanings depending on the types of operands they are applied to. The purpose of operator overloading is to make code more intuitive and easier to read.\n",
    "\n",
    "2) The decision to use operator overloading depends on the programming language and the specific use case. In general, operator overloading should be used when it makes sense and enhances the readability and maintainability of the code.\n",
    "\n",
    "3) For example, in a mathematical library, it would be appropriate to overload the + operator to perform vector addition. Similarly, in a string class, it would be appropriate to overload the + operator to concatenate two strings.\n",
    "\n",
    "4) On the other hand, overusing operator overloading or using it in inappropriate situations can lead to confusion and make code harder to understand. Therefore, it's important to use operator overloading judiciously and in a way that makes sense in the context of the code being written."
   ]
  },
  {
   "cell_type": "code",
   "execution_count": null,
   "id": "5775c4b7",
   "metadata": {},
   "outputs": [],
   "source": [
    "************************************************************************************************************************"
   ]
  },
  {
   "cell_type": "code",
   "execution_count": null,
   "id": "a9736494",
   "metadata": {},
   "outputs": [],
   "source": []
  }
 ],
 "metadata": {
  "kernelspec": {
   "display_name": "Python 3 (ipykernel)",
   "language": "python",
   "name": "python3"
  },
  "language_info": {
   "codemirror_mode": {
    "name": "ipython",
    "version": 3
   },
   "file_extension": ".py",
   "mimetype": "text/x-python",
   "name": "python",
   "nbconvert_exporter": "python",
   "pygments_lexer": "ipython3",
   "version": "3.9.13"
  }
 },
 "nbformat": 4,
 "nbformat_minor": 5
}
