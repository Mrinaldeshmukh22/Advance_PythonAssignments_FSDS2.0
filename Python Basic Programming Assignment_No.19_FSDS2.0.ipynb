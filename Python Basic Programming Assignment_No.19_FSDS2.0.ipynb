{
 "cells": [
  {
   "cell_type": "code",
   "execution_count": null,
   "id": "8cee5075",
   "metadata": {},
   "outputs": [],
   "source": [
    "Ques 1 : Create a function that takes a string and returns a string in which each character is repeated\n",
    "once."
   ]
  },
  {
   "cell_type": "code",
   "execution_count": 11,
   "id": "e75ba010",
   "metadata": {},
   "outputs": [],
   "source": [
    "def double_char(a):\n",
    "    s1 = \"\"\n",
    "    for i in a:\n",
    "        s1 = s1+i+i\n",
    "    return s1"
   ]
  },
  {
   "cell_type": "code",
   "execution_count": 12,
   "id": "a79bdb04",
   "metadata": {},
   "outputs": [
    {
     "data": {
      "text/plain": [
       "'SSttrriinngg'"
      ]
     },
     "execution_count": 12,
     "metadata": {},
     "output_type": "execute_result"
    }
   ],
   "source": [
    "double_char(\"String\")"
   ]
  },
  {
   "cell_type": "code",
   "execution_count": 13,
   "id": "fcc6c0b4",
   "metadata": {},
   "outputs": [
    {
     "data": {
      "text/plain": [
       "'HHeellllooww  WWoorrlldd'"
      ]
     },
     "execution_count": 13,
     "metadata": {},
     "output_type": "execute_result"
    }
   ],
   "source": [
    "double_char(\"Hellow World\")"
   ]
  },
  {
   "cell_type": "code",
   "execution_count": null,
   "id": "daf1449f",
   "metadata": {},
   "outputs": [],
   "source": [
    "*******************************************************************************"
   ]
  },
  {
   "cell_type": "code",
   "execution_count": null,
   "id": "32c09ae1",
   "metadata": {},
   "outputs": [],
   "source": [
    "Ques 2 :Create a function that reverses a boolean value and returns the string &quot;boolean expected&quot;\n",
    "if another variable type is given."
   ]
  },
  {
   "cell_type": "code",
   "execution_count": 22,
   "id": "65ea046c",
   "metadata": {},
   "outputs": [],
   "source": [
    "def reverse(a) :\n",
    "    if type(a)!= bool:\n",
    "        return \"boolean expected\"\n",
    "    elif a==True:\n",
    "        return False\n",
    "    else:\n",
    "        return True     "
   ]
  },
  {
   "cell_type": "code",
   "execution_count": 23,
   "id": "c5b42c99",
   "metadata": {},
   "outputs": [
    {
     "data": {
      "text/plain": [
       "'boolean expected'"
      ]
     },
     "execution_count": 23,
     "metadata": {},
     "output_type": "execute_result"
    }
   ],
   "source": [
    "reverse(None) "
   ]
  },
  {
   "cell_type": "code",
   "execution_count": 24,
   "id": "459be499",
   "metadata": {},
   "outputs": [
    {
     "data": {
      "text/plain": [
       "True"
      ]
     },
     "execution_count": 24,
     "metadata": {},
     "output_type": "execute_result"
    }
   ],
   "source": [
    "reverse(False)"
   ]
  },
  {
   "cell_type": "code",
   "execution_count": 25,
   "id": "9ad2e63a",
   "metadata": {},
   "outputs": [
    {
     "data": {
      "text/plain": [
       "False"
      ]
     },
     "execution_count": 25,
     "metadata": {},
     "output_type": "execute_result"
    }
   ],
   "source": [
    "reverse(True) "
   ]
  },
  {
   "cell_type": "code",
   "execution_count": 26,
   "id": "c42635bd",
   "metadata": {},
   "outputs": [
    {
     "data": {
      "text/plain": [
       "'boolean expected'"
      ]
     },
     "execution_count": 26,
     "metadata": {},
     "output_type": "execute_result"
    }
   ],
   "source": [
    "reverse(0)"
   ]
  },
  {
   "cell_type": "code",
   "execution_count": null,
   "id": "865d12c3",
   "metadata": {},
   "outputs": [],
   "source": [
    "*******************************************************************************"
   ]
  },
  {
   "cell_type": "code",
   "execution_count": null,
   "id": "d0bf1e4b",
   "metadata": {},
   "outputs": [],
   "source": [
    "Ques 3 : Create a function that returns the thickness (in meters) of a piece of paper after folding it n number of times. The paper starts off with a thickness of 0.5mm."
   ]
  },
  {
   "cell_type": "code",
   "execution_count": 30,
   "id": "6f494662",
   "metadata": {},
   "outputs": [],
   "source": [
    "def num_layers(a) :\n",
    "    thickness=pow(2,a)*.5/1000\n",
    "    return thickness"
   ]
  },
  {
   "cell_type": "code",
   "execution_count": 31,
   "id": "51fd72de",
   "metadata": {},
   "outputs": [
    {
     "data": {
      "text/plain": [
       "0.001"
      ]
     },
     "execution_count": 31,
     "metadata": {},
     "output_type": "execute_result"
    }
   ],
   "source": [
    "num_layers(1)"
   ]
  },
  {
   "cell_type": "code",
   "execution_count": 32,
   "id": "37a5b6d2",
   "metadata": {},
   "outputs": [
    {
     "data": {
      "text/plain": [
       "0.008"
      ]
     },
     "execution_count": 32,
     "metadata": {},
     "output_type": "execute_result"
    }
   ],
   "source": [
    "num_layers(4)"
   ]
  },
  {
   "cell_type": "code",
   "execution_count": 33,
   "id": "4c87214c",
   "metadata": {},
   "outputs": [
    {
     "data": {
      "text/plain": [
       "1048.576"
      ]
     },
     "execution_count": 33,
     "metadata": {},
     "output_type": "execute_result"
    }
   ],
   "source": [
    "num_layers(21) "
   ]
  },
  {
   "cell_type": "code",
   "execution_count": null,
   "id": "db36b3a8",
   "metadata": {},
   "outputs": [],
   "source": [
    "*******************************************************************************"
   ]
  },
  {
   "cell_type": "code",
   "execution_count": null,
   "id": "3f7c1f6c",
   "metadata": {},
   "outputs": [],
   "source": [
    "Ques 4 : Create a function that takes a single string as argument and returns an ordered list containing the indices of all capital letters in the string"
   ]
  },
  {
   "cell_type": "code",
   "execution_count": 43,
   "id": "4dd67bf4",
   "metadata": {},
   "outputs": [],
   "source": [
    "def index_of_caps(a) :\n",
    "    res=[]\n",
    "    res = [i for i in range (0,len(a)) if a[i].isupper()]\n",
    "    return res\n",
    "    "
   ]
  },
  {
   "cell_type": "code",
   "execution_count": 44,
   "id": "a304c5b8",
   "metadata": {},
   "outputs": [
    {
     "data": {
      "text/plain": [
       "[1, 3, 5]"
      ]
     },
     "execution_count": 44,
     "metadata": {},
     "output_type": "execute_result"
    }
   ],
   "source": [
    "index_of_caps(\"eDaBiT\")"
   ]
  },
  {
   "cell_type": "code",
   "execution_count": 45,
   "id": "c4b26983",
   "metadata": {},
   "outputs": [
    {
     "data": {
      "text/plain": [
       "[1, 3, 4, 6]"
      ]
     },
     "execution_count": 45,
     "metadata": {},
     "output_type": "execute_result"
    }
   ],
   "source": [
    "index_of_caps(\"eQuINoX\") "
   ]
  },
  {
   "cell_type": "code",
   "execution_count": 46,
   "id": "6e8f2dbd",
   "metadata": {},
   "outputs": [
    {
     "data": {
      "text/plain": [
       "[]"
      ]
     },
     "execution_count": 46,
     "metadata": {},
     "output_type": "execute_result"
    }
   ],
   "source": [
    "index_of_caps(\"determine\")"
   ]
  },
  {
   "cell_type": "code",
   "execution_count": 47,
   "id": "4ba013f3",
   "metadata": {},
   "outputs": [
    {
     "data": {
      "text/plain": [
       "[0, 1, 2, 3, 4, 5]"
      ]
     },
     "execution_count": 47,
     "metadata": {},
     "output_type": "execute_result"
    }
   ],
   "source": [
    "index_of_caps(\"STRIKE\") "
   ]
  },
  {
   "cell_type": "code",
   "execution_count": null,
   "id": "5f56a0e3",
   "metadata": {},
   "outputs": [],
   "source": [
    "*******************************************************************************"
   ]
  },
  {
   "cell_type": "code",
   "execution_count": null,
   "id": "fdfb8c63",
   "metadata": {},
   "outputs": [],
   "source": [
    "Ques 5 : Using list comprehensions, create a function that finds all even numbers from 1 to the given number."
   ]
  },
  {
   "cell_type": "code",
   "execution_count": 54,
   "id": "d840670c",
   "metadata": {},
   "outputs": [],
   "source": [
    "def find_even_nums(n):\n",
    "    return [i for i in range(1, n+1) if i % 2 == 0]"
   ]
  },
  {
   "cell_type": "code",
   "execution_count": 55,
   "id": "6acb8ea8",
   "metadata": {},
   "outputs": [
    {
     "data": {
      "text/plain": [
       "[2, 4, 6, 8]"
      ]
     },
     "execution_count": 55,
     "metadata": {},
     "output_type": "execute_result"
    }
   ],
   "source": [
    "find_even_nums(8) "
   ]
  },
  {
   "cell_type": "code",
   "execution_count": 56,
   "id": "c4d180fe",
   "metadata": {},
   "outputs": [
    {
     "data": {
      "text/plain": [
       "[2, 4]"
      ]
     },
     "execution_count": 56,
     "metadata": {},
     "output_type": "execute_result"
    }
   ],
   "source": [
    "find_even_nums(4) "
   ]
  },
  {
   "cell_type": "code",
   "execution_count": null,
   "id": "eec271f5",
   "metadata": {},
   "outputs": [],
   "source": [
    "*******************************************************************************"
   ]
  },
  {
   "cell_type": "code",
   "execution_count": null,
   "id": "f89fc6f9",
   "metadata": {},
   "outputs": [],
   "source": []
  },
  {
   "cell_type": "code",
   "execution_count": null,
   "id": "ac41b09f",
   "metadata": {},
   "outputs": [],
   "source": []
  }
 ],
 "metadata": {
  "kernelspec": {
   "display_name": "Python 3 (ipykernel)",
   "language": "python",
   "name": "python3"
  },
  "language_info": {
   "codemirror_mode": {
    "name": "ipython",
    "version": 3
   },
   "file_extension": ".py",
   "mimetype": "text/x-python",
   "name": "python",
   "nbconvert_exporter": "python",
   "pygments_lexer": "ipython3",
   "version": "3.9.13"
  }
 },
 "nbformat": 4,
 "nbformat_minor": 5
}
