{
 "cells": [
  {
   "cell_type": "code",
   "execution_count": null,
   "id": "50185fd6",
   "metadata": {},
   "outputs": [],
   "source": [
    "1. What are the new features added in Python 3.8 version?"
   ]
  },
  {
   "cell_type": "markdown",
   "id": "f04f91b7",
   "metadata": {},
   "source": [
    "1) Assignment Expressions (the Walrus Operator): Allows for an assignment expression within another expression, such as while (command := input(\"> \")).\n",
    "\n",
    "2) Positional-only Parameters: Allows function parameters to be marked as positional-only using / in the function signature.\n",
    "\n",
    "3) f-strings now support the = specifier for better debugging: f-strings now support the = specifier, which will print the expression value and the object id for easier debugging.\n",
    "\n",
    "4) The improved performance and syntax of Python's sort function.\n",
    "\n",
    "5) New Typing Features: Type hinting has been expanded to include Literal types, TypedDicts, and more."
   ]
  },
  {
   "cell_type": "code",
   "execution_count": null,
   "id": "7e879690",
   "metadata": {},
   "outputs": [],
   "source": [
    "***************************************************************************************************************************"
   ]
  },
  {
   "cell_type": "code",
   "execution_count": null,
   "id": "40689c62",
   "metadata": {},
   "outputs": [],
   "source": [
    "2. What is monkey patching in Python?"
   ]
  },
  {
   "cell_type": "markdown",
   "id": "836e77cc",
   "metadata": {},
   "source": [
    "Monkey patching in Python refers to the practice of dynamically modifying the behavior of a module, class, or object at runtime. It allows you to change the behavior of an existing code without modifying its source code directly. Monkey patching can be useful for debugging, testing, and adding new features to third-party libraries."
   ]
  },
  {
   "cell_type": "code",
   "execution_count": 1,
   "id": "8c846894",
   "metadata": {},
   "outputs": [],
   "source": [
    "class MyClass:\n",
    "    def my_method(self):\n",
    "        print(\"Original method\")\n",
    "\n",
    "def new_method(self):\n",
    "    print(\"New method\")\n",
    "\n",
    "MyClass.my_method = new_method"
   ]
  },
  {
   "cell_type": "code",
   "execution_count": null,
   "id": "0f8637b7",
   "metadata": {},
   "outputs": [],
   "source": [
    "After this code runs, all instances of MyClass will have the my_method method replaced with the new_method method."
   ]
  },
  {
   "cell_type": "code",
   "execution_count": null,
   "id": "23eb4935",
   "metadata": {},
   "outputs": [],
   "source": [
    "***************************************************************************************************************************"
   ]
  },
  {
   "cell_type": "code",
   "execution_count": null,
   "id": "42418cc2",
   "metadata": {},
   "outputs": [],
   "source": [
    "3. What is the difference between a shallow copy and deep copy?"
   ]
  },
  {
   "cell_type": "markdown",
   "id": "f4c47e3a",
   "metadata": {},
   "source": [
    "A shallow copy creates a new object but references the same memory as the original object. This means that any changes made to the new object will also affect the original object. In Python, you can create a shallow copy using the copy() method or the slicing operator [:]."
   ]
  },
  {
   "cell_type": "code",
   "execution_count": 2,
   "id": "b92a8b70",
   "metadata": {},
   "outputs": [
    {
     "name": "stdout",
     "output_type": "stream",
     "text": [
      "[1, 2, 3]\n",
      "[4, 2, 3]\n"
     ]
    }
   ],
   "source": [
    "list1 = [1, 2, 3]\n",
    "list2 = list1.copy()\n",
    "list2[0] = 4\n",
    "print(list1)\n",
    "print(list2)"
   ]
  },
  {
   "cell_type": "markdown",
   "id": "b0a5c25c",
   "metadata": {},
   "source": [
    "A deep copy, on the other hand, creates a completely new object with a new memory address, independent of the original object. This means that any changes made to the new object will not affect the original object. In Python, you can create a deep copy using the deepcopy() method from the copy module.\n"
   ]
  },
  {
   "cell_type": "code",
   "execution_count": 3,
   "id": "d2a52903",
   "metadata": {},
   "outputs": [
    {
     "name": "stdout",
     "output_type": "stream",
     "text": [
      "[1, 2, [3, 4]]\n",
      "[1, 2, [5, 4]]\n"
     ]
    }
   ],
   "source": [
    "import copy\n",
    "\n",
    "list1 = [1, 2, [3, 4]]\n",
    "list2 = copy.deepcopy(list1)\n",
    "list2[2][0] = 5\n",
    "print(list1)\n",
    "print(list2)"
   ]
  },
  {
   "cell_type": "markdown",
   "id": "69b4cc51",
   "metadata": {},
   "source": [
    "So, the main difference between shallow copy and deep copy is that a shallow copy creates a new object that references the same memory as the original object, while a deep copy creates a new object with a new memory address, independent of the original object."
   ]
  },
  {
   "cell_type": "code",
   "execution_count": null,
   "id": "dcc66729",
   "metadata": {},
   "outputs": [],
   "source": [
    "***************************************************************************************************************************"
   ]
  },
  {
   "cell_type": "code",
   "execution_count": null,
   "id": "d96570a8",
   "metadata": {},
   "outputs": [],
   "source": [
    "4. What is the maximum possible length of an identifier?"
   ]
  },
  {
   "cell_type": "markdown",
   "id": "8f26c60d",
   "metadata": {},
   "source": [
    "\n",
    "In Python, the maximum possible length of an identifier is technically unlimited. However, it's generally recommended to keep identifier names reasonably short and meaningful to make code more readable and maintainable.\n",
    "\n",
    "According to the official Python documentation, an identifier is a sequence of characters in Python that consists of letters, digits, and underscores. It must start with a letter or an underscore, and it cannot be a keyword.\n",
    "\n",
    "So, while there is no specific limit to the length of an identifier, it's good practice to keep them concise and descriptive. A common convention is to use camelCase or snake_case naming conventions for variables and functions, respectively."
   ]
  },
  {
   "cell_type": "code",
   "execution_count": null,
   "id": "598452c4",
   "metadata": {},
   "outputs": [],
   "source": [
    "***************************************************************************************************************************"
   ]
  },
  {
   "cell_type": "code",
   "execution_count": null,
   "id": "8e4111a2",
   "metadata": {},
   "outputs": [],
   "source": [
    "5. What is generator comprehension?"
   ]
  },
  {
   "cell_type": "markdown",
   "id": "9199b1b7",
   "metadata": {},
   "source": [
    "Generator comprehension is a shorthand notation for creating a generator object in Python. It allows you to create a generator without the need to define a function explicitly.\n",
    "\n",
    "instead of square brackets, you use parentheses here"
   ]
  },
  {
   "cell_type": "code",
   "execution_count": 6,
   "id": "9dafd5ce",
   "metadata": {},
   "outputs": [],
   "source": [
    "my_generator = (x for x in range(10) if x % 2 == 0)"
   ]
  },
  {
   "cell_type": "code",
   "execution_count": 10,
   "id": "e0b8fea2",
   "metadata": {},
   "outputs": [
    {
     "name": "stdout",
     "output_type": "stream",
     "text": [
      "0\n",
      "2\n",
      "4\n",
      "6\n",
      "8\n"
     ]
    }
   ],
   "source": [
    "for x in my_generator:\n",
    "    print(x)"
   ]
  },
  {
   "cell_type": "markdown",
   "id": "1102474b",
   "metadata": {},
   "source": [
    "The resulting my_generator object can be iterated over using a for loop or any other method that can handle generators. One of the key benefits of using a generator is that it generates values on the fly as you iterate over it, which can save memory compared to creating a list containing all the values at once"
   ]
  },
  {
   "cell_type": "code",
   "execution_count": null,
   "id": "e0d0efa7",
   "metadata": {},
   "outputs": [],
   "source": [
    "***************************************************************************************************************************"
   ]
  }
 ],
 "metadata": {
  "kernelspec": {
   "display_name": "Python 3 (ipykernel)",
   "language": "python",
   "name": "python3"
  },
  "language_info": {
   "codemirror_mode": {
    "name": "ipython",
    "version": 3
   },
   "file_extension": ".py",
   "mimetype": "text/x-python",
   "name": "python",
   "nbconvert_exporter": "python",
   "pygments_lexer": "ipython3",
   "version": "3.9.13"
  }
 },
 "nbformat": 4,
 "nbformat_minor": 5
}
