{
 "cells": [
  {
   "cell_type": "code",
   "execution_count": null,
   "id": "0f0b9f62",
   "metadata": {},
   "outputs": [],
   "source": [
    "Ques 1 : Write a Python program to convert kilometers to miles"
   ]
  },
  {
   "cell_type": "code",
   "execution_count": 4,
   "id": "2b182bd5",
   "metadata": {},
   "outputs": [
    {
     "name": "stdout",
     "output_type": "stream",
     "text": [
      "Enter the value in km: 6\n",
      "miles 3.7282260000000003\n"
     ]
    }
   ],
   "source": [
    "km = float(input(\"Enter the value in km: \"))\n",
    "conv_fac = 0.621371\n",
    "miles = km * conv_fac\n",
    "print(\"miles\",miles )"
   ]
  },
  {
   "cell_type": "code",
   "execution_count": null,
   "id": "4f2a1838",
   "metadata": {},
   "outputs": [],
   "source": [
    "Ques 2 : Write a Python program to convert kilometers to miles?"
   ]
  },
  {
   "cell_type": "code",
   "execution_count": 10,
   "id": "2c43b725",
   "metadata": {},
   "outputs": [
    {
     "name": "stdout",
     "output_type": "stream",
     "text": [
      "Enter the distance:6\n"
     ]
    }
   ],
   "source": [
    "def km_to_miles(a):\n",
    "    conv_fac = 0.621371\n",
    "    miles = a * conv_fac\n",
    "    print('kilometers is equal to miles',miles)\n",
    "distance = float(input(\"Enter the distance:\"))"
   ]
  },
  {
   "cell_type": "code",
   "execution_count": 9,
   "id": "f2a0103c",
   "metadata": {},
   "outputs": [
    {
     "name": "stdout",
     "output_type": "stream",
     "text": [
      "kilometers is equal to miles 3.7282260000000003\n"
     ]
    }
   ],
   "source": [
    "km_to_miles(distance)"
   ]
  },
  {
   "cell_type": "code",
   "execution_count": null,
   "id": "611cf8d5",
   "metadata": {},
   "outputs": [],
   "source": [
    "---------------------------------------------------------------------------------------------------------------------------"
   ]
  },
  {
   "cell_type": "code",
   "execution_count": null,
   "id": "b9bc00e9",
   "metadata": {},
   "outputs": [],
   "source": [
    "Ques 3 : Write a Python program to convert Celsius to Fahrenheit?"
   ]
  },
  {
   "cell_type": "code",
   "execution_count": 3,
   "id": "1e430267",
   "metadata": {},
   "outputs": [
    {
     "name": "stdout",
     "output_type": "stream",
     "text": [
      "Enter the value in Celsius: 5\n",
      "Fahrenheit: 41.0\n"
     ]
    }
   ],
   "source": [
    "Celsius = float(input(\"Enter the value in Celsius: \"))\n",
    "Fahrenheit = (Celsius*1.8)+32\n",
    "print(\"Fahrenheit:\", Fahrenheit)"
   ]
  },
  {
   "cell_type": "code",
   "execution_count": 4,
   "id": "4514889f",
   "metadata": {},
   "outputs": [
    {
     "name": "stdout",
     "output_type": "stream",
     "text": [
      "Enter the temperature in celcius: 5\n",
      "Temperature in farenheit is: 41.0\n"
     ]
    }
   ],
   "source": [
    "def celsius_to_farenheit(celsius):\n",
    "    farenheit = (celsius*1.8)+32\n",
    "    print(\"Temperature in farenheit is:\",farenheit)\n",
    "temprature = float(input(\"Enter the temperature in celcius: \"))\n",
    "celsius_to_farenheit(temprature)"
   ]
  },
  {
   "cell_type": "code",
   "execution_count": null,
   "id": "79a358e9",
   "metadata": {},
   "outputs": [],
   "source": [
    "--------------------------------------------------------------------------------------------------------------------------"
   ]
  },
  {
   "cell_type": "code",
   "execution_count": null,
   "id": "e90a8686",
   "metadata": {},
   "outputs": [],
   "source": [
    "Ques 4 : Write a Python program to display calendar"
   ]
  },
  {
   "cell_type": "code",
   "execution_count": 7,
   "id": "f8141f38",
   "metadata": {},
   "outputs": [
    {
     "name": "stdout",
     "output_type": "stream",
     "text": [
      "Enter year: 2023\n",
      "Enter month: 1\n",
      "    January 2023\n",
      "Mo Tu We Th Fr Sa Su\n",
      "                   1\n",
      " 2  3  4  5  6  7  8\n",
      " 9 10 11 12 13 14 15\n",
      "16 17 18 19 20 21 22\n",
      "23 24 25 26 27 28 29\n",
      "30 31\n",
      "\n"
     ]
    }
   ],
   "source": [
    "import calendar\n",
    "yy = int(input(\"Enter year: \"))\n",
    "mm = int(input(\"Enter month: \"))\n",
    "\n",
    "\n",
    "print(calendar.month(yy, mm))"
   ]
  },
  {
   "cell_type": "code",
   "execution_count": null,
   "id": "a548dde6",
   "metadata": {},
   "outputs": [],
   "source": [
    "--------------------------------------------------------------------------------------------------------------------------"
   ]
  },
  {
   "cell_type": "code",
   "execution_count": null,
   "id": "bd48fa47",
   "metadata": {},
   "outputs": [],
   "source": [
    "Ques 5 : Write a Python program to solve quadratic equation?"
   ]
  },
  {
   "cell_type": "code",
   "execution_count": 8,
   "id": "8fc25293",
   "metadata": {},
   "outputs": [
    {
     "name": "stdout",
     "output_type": "stream",
     "text": [
      "The solution are (-4+0j) and (-1+0j)\n"
     ]
    }
   ],
   "source": [
    "# The quadratic equation is ax**2 + bx + c = 0\n",
    "import cmath\n",
    "\n",
    "a = 1\n",
    "b = 5\n",
    "c = 4\n",
    "\n",
    "d = (b**2) - (4*a*c)\n",
    "\n",
    "sol1 = (-b-cmath.sqrt(d))/(2*a)\n",
    "sol2 = (-b+cmath.sqrt(d))/(2*a)\n",
    "\n",
    "print('The solution are {0} and {1}'.format(sol1,sol2))"
   ]
  },
  {
   "cell_type": "code",
   "execution_count": null,
   "id": "1cbbf5d7",
   "metadata": {},
   "outputs": [],
   "source": [
    "-------------------------------------------------------------------------------------------------------------------------------"
   ]
  },
  {
   "cell_type": "code",
   "execution_count": null,
   "id": "7d7b143d",
   "metadata": {},
   "outputs": [],
   "source": [
    "Ques : Write a Python program to swap two variables without temp variable?"
   ]
  },
  {
   "cell_type": "code",
   "execution_count": 12,
   "id": "5c556c4c",
   "metadata": {},
   "outputs": [
    {
     "name": "stdout",
     "output_type": "stream",
     "text": [
      "Enter first number: 18\n",
      "Enter second number: 16\n",
      "Before swapping values of a and b are :  (18, 16)\n",
      "After swapping values of a and b are :  (16, 18)\n"
     ]
    }
   ],
   "source": [
    "a = int(input(\"Enter first number: \"))\n",
    "b = int(input(\"Enter second number: \"))\n",
    "print(\"Before swapping values of a and b are : \",(a,b))\n",
    "a,b = b,a\n",
    "print(\"After swapping values of a and b are : \" ,(a,b))"
   ]
  },
  {
   "cell_type": "code",
   "execution_count": null,
   "id": "f5ba0caf",
   "metadata": {},
   "outputs": [],
   "source": []
  },
  {
   "cell_type": "code",
   "execution_count": null,
   "id": "177573f0",
   "metadata": {},
   "outputs": [],
   "source": []
  },
  {
   "cell_type": "code",
   "execution_count": null,
   "id": "cc35a451",
   "metadata": {},
   "outputs": [],
   "source": []
  },
  {
   "cell_type": "code",
   "execution_count": null,
   "id": "5be65ae4",
   "metadata": {},
   "outputs": [],
   "source": []
  },
  {
   "cell_type": "code",
   "execution_count": null,
   "id": "f6e3aea5",
   "metadata": {},
   "outputs": [],
   "source": []
  }
 ],
 "metadata": {
  "kernelspec": {
   "display_name": "Python 3 (ipykernel)",
   "language": "python",
   "name": "python3"
  },
  "language_info": {
   "codemirror_mode": {
    "name": "ipython",
    "version": 3
   },
   "file_extension": ".py",
   "mimetype": "text/x-python",
   "name": "python",
   "nbconvert_exporter": "python",
   "pygments_lexer": "ipython3",
   "version": "3.9.12"
  }
 },
 "nbformat": 4,
 "nbformat_minor": 5
}
