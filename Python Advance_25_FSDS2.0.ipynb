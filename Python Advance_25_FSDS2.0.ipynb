{
 "cells": [
  {
   "cell_type": "code",
   "execution_count": null,
   "id": "c3fd436e",
   "metadata": {},
   "outputs": [],
   "source": [
    "Q1. What is the distinction between a numpy array and a pandas data frame? Is there a way to\n",
    "convert between the two if there is?"
   ]
  },
  {
   "cell_type": "markdown",
   "id": "eef970fc",
   "metadata": {},
   "source": [
    "NumPy arrays and Pandas data frames are both used for handling data in Python, but they have some key differences.\n",
    "\n",
    "NumPy arrays are homogeneous, meaning they can only contain elements of the same data type (e.g., all integers or all floats). They are typically used for numerical calculations and mathematical operations and are optimized for speed and memory efficiency. They have a fixed size and shape, which cannot be changed once they are created.\n",
    "\n",
    "Pandas data frames, on the other hand, are heterogeneous and can contain columns of different data types. They are used for more complex data analysis tasks and are optimized for flexibility and ease of use. They can be thought of as a table or spreadsheet-like structure with rows and columns that can be manipulated in various ways.\n",
    "\n",
    "To convert a NumPy array to a Pandas data frame, you can use the pandas.DataFrame() function and pass the NumPy array as an argument"
   ]
  },
  {
   "cell_type": "code",
   "execution_count": 1,
   "id": "362655bf",
   "metadata": {},
   "outputs": [],
   "source": [
    "import numpy as np\n",
    "import pandas as pd\n",
    "\n",
    "# create a 2D NumPy array\n",
    "my_array = np.array([[1, 2, 3], [4, 5, 6]])\n",
    "\n",
    "# convert the NumPy array to a Pandas data frame\n",
    "my_df = pd.DataFrame(my_array)\n"
   ]
  },
  {
   "cell_type": "code",
   "execution_count": 2,
   "id": "bbd61743",
   "metadata": {},
   "outputs": [],
   "source": [
    "import numpy as np\n",
    "import pandas as pd\n",
    "\n",
    "# create a Pandas data frame\n",
    "my_df = pd.DataFrame({'a': [1, 2, 3], 'b': [4, 5, 6]})\n",
    "\n",
    "# convert the Pandas data frame to a NumPy array\n",
    "my_array = my_df.values"
   ]
  },
  {
   "cell_type": "code",
   "execution_count": null,
   "id": "d5b8b47f",
   "metadata": {},
   "outputs": [],
   "source": [
    "*********************************************************************************************************************************"
   ]
  },
  {
   "cell_type": "code",
   "execution_count": null,
   "id": "af7d8709",
   "metadata": {},
   "outputs": [],
   "source": [
    "Q2. What can go wrong when an user enters in a stock-ticker symbol, and how do you handle it?"
   ]
  },
  {
   "cell_type": "markdown",
   "id": "3daadd0a",
   "metadata": {},
   "source": [
    "1) Typing errors: Users may make mistakes while typing the symbol, such as omitting a letter or adding an extra letter, which can lead to an invalid symbol.\n",
    "\n",
    "2) Wrong symbol: Sometimes, users may enter the wrong symbol, which can lead to confusion and incorrect data being displayed.\n",
    "\n",
    "3) Non-existent symbol: Users may enter a symbol that does not exist, which can lead to an error message or incorrect data being displayed.\n",
    "\n",
    "4) Outdated information: Users may enter a symbol that is no longer valid or has been delisted, which can lead to outdated information being displayed.\n",
    "\n",
    "To handle these issues, a few strategies can be adopted:\n",
    "\n",
    "1) Auto-suggest: Implementing an auto-suggest feature that provides suggestions as the user types can reduce the likelihood of typos and other errors.\n",
    "\n",
    "2) Symbol validation: Implementing a symbol validation process can help ensure that only valid symbols are accepted, preventing non-existent symbols and reducing the risk of displaying outdated information.\n",
    "\n",
    "4) Error handling: Proper error handling should be in place to provide users with clear error messages and suggest corrective actions.\n",
    "\n",
    "5) User education: Providing clear instructions and information to users on how to correctly enter a stock-ticker symbol can also help prevent errors."
   ]
  },
  {
   "cell_type": "code",
   "execution_count": null,
   "id": "2a9ba4f1",
   "metadata": {},
   "outputs": [],
   "source": [
    "*********************************************************************************************************************************"
   ]
  },
  {
   "cell_type": "code",
   "execution_count": null,
   "id": "b721c75b",
   "metadata": {},
   "outputs": [],
   "source": [
    "Q3. Identify some of the plotting techniques that are used to produce a stock-market chart."
   ]
  },
  {
   "cell_type": "markdown",
   "id": "66d06cc8",
   "metadata": {},
   "source": [
    "1) Matplotlib: Matplotlib is a popular data visualization library in Python that is used to create various types of charts, including line charts, scatter plots, and histograms. Matplotlib's pyplot module provides a simple interface for creating stock market charts.\n",
    "\n",
    "2) Plotly: Plotly is another popular Python library used for creating interactive charts and dashboards. It offers a wide range of chart types, including candlestick charts, which are commonly used for displaying stock market data.\n",
    "\n",
    "3) Seaborn: Seaborn is a data visualization library in Python that is built on top of Matplotlib. It provides a high-level interface for creating informative and attractive statistical graphics. Seaborn's lineplot and scatterplot functions can be used to create stock market charts.\n",
    "\n",
    "4) Bokeh: Bokeh is a Python library for creating interactive data visualizations in web browsers. It offers a variety of chart types, including line charts, scatter plots, and candlestick charts, which can be used for displaying stock market data.\n",
    "\n",
    "Overall, the choice of plotting technique will depend on the specific requirements of the analysis and the desired visual representation of the stock market data."
   ]
  },
  {
   "cell_type": "code",
   "execution_count": null,
   "id": "66507bd6",
   "metadata": {},
   "outputs": [],
   "source": [
    "*********************************************************************************************************************************"
   ]
  },
  {
   "cell_type": "code",
   "execution_count": null,
   "id": "63b2cd34",
   "metadata": {},
   "outputs": [],
   "source": [
    "Q4. Why is it essential to print a legend on a stock market chart?"
   ]
  },
  {
   "cell_type": "markdown",
   "id": "9c963d55",
   "metadata": {},
   "source": [
    "1) In a stock market chart, a legend is a key component that helps to identify and understand the various elements represented in the chart. The legend provides essential information about the different lines or bars in the chart, such as the colors, patterns, and labels used to represent different stocks or market indices.\n",
    "\n",
    "2) Without a legend, the viewer of the chart may find it difficult to interpret the information presented in the chart accurately. For example, it may be challenging to identify which line represents which stock or index, or to distinguish between different trends or patterns in the chart.\n",
    "\n",
    "3) In Python, adding a legend to a stock market chart is relatively straightforward using libraries such as Matplotlib or Plotly. The legend function can be used to create a legend object and customize its position, font size, and other properties to enhance the chart's readability."
   ]
  },
  {
   "cell_type": "code",
   "execution_count": null,
   "id": "37c2c75f",
   "metadata": {},
   "outputs": [],
   "source": [
    "*********************************************************************************************************************************"
   ]
  },
  {
   "cell_type": "code",
   "execution_count": null,
   "id": "f1b68d7e",
   "metadata": {},
   "outputs": [],
   "source": [
    "Q5. What is the best way to limit the length of a pandas data frame to less than a year?"
   ]
  },
  {
   "cell_type": "markdown",
   "id": "f4d49da1",
   "metadata": {},
   "source": [
    "To limit the length of a Pandas DataFrame to less than a year, you can use the Pandas loc method to filter the DataFrame by a date range. "
   ]
  },
  {
   "cell_type": "code",
   "execution_count": 9,
   "id": "c0e52251",
   "metadata": {},
   "outputs": [
    {
     "name": "stdout",
     "output_type": "stream",
     "text": [
      "          date  value\n",
      "135 2022-05-16    135\n",
      "136 2022-05-17    136\n",
      "137 2022-05-18    137\n",
      "138 2022-05-19    138\n",
      "139 2022-05-20    139\n",
      "..         ...    ...\n",
      "495 2023-05-11    495\n",
      "496 2023-05-12    496\n",
      "497 2023-05-13    497\n",
      "498 2023-05-14    498\n",
      "499 2023-05-15    499\n",
      "\n",
      "[365 rows x 2 columns]\n"
     ]
    }
   ],
   "source": [
    "import pandas as pd\n",
    "from datetime import datetime, timedelta\n",
    "\n",
    "# Create a sample DataFrame\n",
    "df = pd.DataFrame({\n",
    "    'date': pd.date_range(start='2022-01-01', end='2023-05-15', freq='D'),\n",
    "    'value': range(0, 500)\n",
    "})\n",
    "\n",
    "# Set the start date to one year ago from today\n",
    "one_year_ago = datetime.today() - timedelta(days=365)\n",
    "\n",
    "# Filter the DataFrame to include only dates after one year ago\n",
    "df_filtered = df.loc[df['date'] > one_year_ago]\n",
    "\n",
    "# Print the filtered DataFrame\n",
    "print(df_filtered)\n"
   ]
  },
  {
   "cell_type": "code",
   "execution_count": null,
   "id": "c28e46c3",
   "metadata": {},
   "outputs": [],
   "source": [
    "*********************************************************************************************************************************"
   ]
  },
  {
   "cell_type": "code",
   "execution_count": null,
   "id": "fb44de0a",
   "metadata": {},
   "outputs": [],
   "source": [
    "Q6. What is the definition of a 180-day moving average?"
   ]
  },
  {
   "cell_type": "markdown",
   "id": "267cda0c",
   "metadata": {},
   "source": [
    "A 180-day moving average is a technical analysis indicator that calculates the average price of a security over the past 180 trading days. This moving average is commonly used by traders and investors to identify the general trend of a security's price over a longer period of time and to smooth out short-term fluctuations."
   ]
  },
  {
   "cell_type": "code",
   "execution_count": null,
   "id": "64aace53",
   "metadata": {},
   "outputs": [],
   "source": [
    "*********************************************************************************************************************************"
   ]
  },
  {
   "cell_type": "code",
   "execution_count": null,
   "id": "5ea1c4bf",
   "metadata": {},
   "outputs": [],
   "source": [
    "Q7. Did the chapters final example use \"indirect\" importing? If so, how exactly do you do it?"
   ]
  },
  {
   "cell_type": "markdown",
   "id": "e5ad842f",
   "metadata": {},
   "source": [
    "Yes, the chapter's final example uses indirect importing.\n",
    "\n",
    "Indirect importing in Python allows you to import a module or attribute indirectly by using a string or variable containing the name of the module or attribute. This is different from direct importing, where you use the module or attribute name directly in the import statement."
   ]
  },
  {
   "cell_type": "code",
   "execution_count": 11,
   "id": "1dc55d8f",
   "metadata": {},
   "outputs": [
    {
     "name": "stdout",
     "output_type": "stream",
     "text": [
      "5.0\n"
     ]
    }
   ],
   "source": [
    "import importlib\n",
    "\n",
    "module_name = \"math\"\n",
    "module = importlib.import_module(module_name)\n",
    "\n",
    "print(module.sqrt(25))"
   ]
  },
  {
   "cell_type": "markdown",
   "id": "1fe56164",
   "metadata": {},
   "source": [
    "if we use the importlib module to import the math module indirectly. We first create a string variable module_name containing the name of the module we want to import. We then use the import_module() function from importlib to import the module specified by module_name and assign it to a variable called module. We can then use the sqrt() function from the math module through the module variable."
   ]
  },
  {
   "cell_type": "code",
   "execution_count": null,
   "id": "a92b6cca",
   "metadata": {},
   "outputs": [],
   "source": [
    "*********************************************************************************************************************************"
   ]
  }
 ],
 "metadata": {
  "kernelspec": {
   "display_name": "Python 3 (ipykernel)",
   "language": "python",
   "name": "python3"
  },
  "language_info": {
   "codemirror_mode": {
    "name": "ipython",
    "version": 3
   },
   "file_extension": ".py",
   "mimetype": "text/x-python",
   "name": "python",
   "nbconvert_exporter": "python",
   "pygments_lexer": "ipython3",
   "version": "3.9.13"
  }
 },
 "nbformat": 4,
 "nbformat_minor": 5
}
