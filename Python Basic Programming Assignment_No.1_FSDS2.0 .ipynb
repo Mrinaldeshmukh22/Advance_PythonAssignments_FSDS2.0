{
 "cells": [
  {
   "cell_type": "code",
   "execution_count": null,
   "id": "9fa900a5",
   "metadata": {},
   "outputs": [],
   "source": [
    "Ques 1 : Write a Python program to print \" Hello Python\" ?"
   ]
  },
  {
   "cell_type": "code",
   "execution_count": 1,
   "id": "ae9f434d",
   "metadata": {},
   "outputs": [
    {
     "name": "stdout",
     "output_type": "stream",
     "text": [
      "Hello Python\n"
     ]
    }
   ],
   "source": [
    "print(\"Hello Python\")"
   ]
  },
  {
   "cell_type": "code",
   "execution_count": null,
   "id": "c34e5102",
   "metadata": {},
   "outputs": [],
   "source": [
    "---------------------------------------------------------------------------------------------------------------------------"
   ]
  },
  {
   "cell_type": "code",
   "execution_count": null,
   "id": "b524eba9",
   "metadata": {},
   "outputs": [],
   "source": [
    "Ques 2 : Write a Python program to do arithmetical operations addition and division.?"
   ]
  },
  {
   "cell_type": "code",
   "execution_count": 2,
   "id": "22fd60d3",
   "metadata": {},
   "outputs": [
    {
     "name": "stdout",
     "output_type": "stream",
     "text": [
      "Enter the value of a: 100\n",
      "Enter the value of b : 10\n",
      "Addition :  110\n",
      "Division :  10.0\n"
     ]
    }
   ],
   "source": [
    "a = int(input(\"Enter the value of a: \"))\n",
    "b = int(input(\"Enter the value of b : \"))\n",
    "# Arithmetical operation\n",
    "c = a+b\n",
    "print(\"Addition : \", c)\n",
    "D = a/b\n",
    "print(\"Division : \", D)"
   ]
  },
  {
   "cell_type": "code",
   "execution_count": null,
   "id": "ca1d1ab9",
   "metadata": {},
   "outputs": [],
   "source": [
    "--------------------------------------------------------------------------------------------------------------------"
   ]
  },
  {
   "cell_type": "code",
   "execution_count": null,
   "id": "dba2b0be",
   "metadata": {},
   "outputs": [],
   "source": [
    "Ques 3 : Write a Python program to find the area of a triangle?"
   ]
  },
  {
   "cell_type": "code",
   "execution_count": 5,
   "id": "6b4ff205",
   "metadata": {},
   "outputs": [
    {
     "name": "stdout",
     "output_type": "stream",
     "text": [
      "Enter Base: 10\n",
      "Enter Height 12\n",
      "Area 60.0\n"
     ]
    }
   ],
   "source": [
    "base = float(input('Enter Base: '))  \n",
    "Height = float(input('Enter Height '))  \n",
    "A = 1/2 * base * Height\n",
    "print(\"Area\", A)"
   ]
  },
  {
   "cell_type": "code",
   "execution_count": 8,
   "id": "cb7f7e50",
   "metadata": {},
   "outputs": [
    {
     "name": "stdout",
     "output_type": "stream",
     "text": [
      "Enter first side: 8\n",
      "Enter second side: 9\n",
      "Enter third side: 10\n",
      "The area of the triangle is  34.197039345533994\n"
     ]
    }
   ],
   "source": [
    "a = float(input('Enter first side: '))  \n",
    "b = float(input('Enter second side: '))  \n",
    "c = float(input('Enter third side: '))  \n",
    "\n",
    "s = (a + b + c) / 2  \n",
    "\n",
    "Area = (s*(s-a)*(s-b)*(s-c)) ** 0.5  \n",
    "print('The area of the triangle is ' , Area)   "
   ]
  },
  {
   "cell_type": "code",
   "execution_count": null,
   "id": "6a18e86f",
   "metadata": {},
   "outputs": [],
   "source": [
    "--------------------------------------------------------------------------------------------------------------------------"
   ]
  },
  {
   "cell_type": "code",
   "execution_count": null,
   "id": "dbe23182",
   "metadata": {},
   "outputs": [],
   "source": [
    "Ques 4 : Write a Python program to swap two variables?"
   ]
  },
  {
   "cell_type": "code",
   "execution_count": 10,
   "id": "bd9b330e",
   "metadata": {},
   "outputs": [
    {
     "name": "stdout",
     "output_type": "stream",
     "text": [
      "Enter the value of x: 10\n",
      "Enter the value of y: 5\n",
      "x = 5\n",
      "y = 10\n"
     ]
    }
   ],
   "source": [
    "x = int(input(\"Enter the value of x: \"))\n",
    "y = int(input(\"Enter the value of y: \"))\n",
    "\n",
    "x, y = y, x\n",
    "print(\"x =\", x)\n",
    "print(\"y =\", y)"
   ]
  },
  {
   "cell_type": "code",
   "execution_count": null,
   "id": "fed29d4e",
   "metadata": {},
   "outputs": [],
   "source": [
    "---------------------------------------------------------------------------------------------------------------------------"
   ]
  },
  {
   "cell_type": "code",
   "execution_count": null,
   "id": "f22afb8b",
   "metadata": {},
   "outputs": [],
   "source": [
    "Ques 5 : Write a Python program to generate a random number?"
   ]
  },
  {
   "cell_type": "code",
   "execution_count": 12,
   "id": "d6659e8c",
   "metadata": {},
   "outputs": [
    {
     "name": "stdout",
     "output_type": "stream",
     "text": [
      "6\n"
     ]
    }
   ],
   "source": [
    "import random\n",
    "print(random.randint(0,6))"
   ]
  },
  {
   "cell_type": "code",
   "execution_count": null,
   "id": "2879ac67",
   "metadata": {},
   "outputs": [],
   "source": []
  },
  {
   "cell_type": "code",
   "execution_count": null,
   "id": "7481cc03",
   "metadata": {},
   "outputs": [],
   "source": []
  }
 ],
 "metadata": {
  "kernelspec": {
   "display_name": "Python 3 (ipykernel)",
   "language": "python",
   "name": "python3"
  },
  "language_info": {
   "codemirror_mode": {
    "name": "ipython",
    "version": 3
   },
   "file_extension": ".py",
   "mimetype": "text/x-python",
   "name": "python",
   "nbconvert_exporter": "python",
   "pygments_lexer": "ipython3",
   "version": "3.9.12"
  }
 },
 "nbformat": 4,
 "nbformat_minor": 5
}
