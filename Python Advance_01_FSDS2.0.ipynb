{
 "cells": [
  {
   "cell_type": "code",
   "execution_count": null,
   "id": "1a25c7c2",
   "metadata": {},
   "outputs": [],
   "source": [
    "Q1. What is the purpose of Pythons OOP?"
   ]
  },
  {
   "cell_type": "code",
   "execution_count": null,
   "id": "17e855e8",
   "metadata": {},
   "outputs": [],
   "source": [
    "The purpose of Python's Object-Oriented Programming (OOP) is to organize code into reusable and modular units called \n",
    "objects. These objects have properties, which are represented by attributes, and behaviors, which are represented by \n",
    "methods. By using OOP, you can write more efficient, readable, and maintainable code."
   ]
  },
  {
   "cell_type": "code",
   "execution_count": null,
   "id": "b8cb44ab",
   "metadata": {},
   "outputs": [],
   "source": [
    "*************************************************************************************************************************"
   ]
  },
  {
   "cell_type": "code",
   "execution_count": null,
   "id": "53d3d6b9",
   "metadata": {},
   "outputs": [],
   "source": [
    "Q2. Where does an inheritance search look for an attribute?"
   ]
  },
  {
   "cell_type": "markdown",
   "id": "0d8e6126",
   "metadata": {},
   "source": [
    ">1) Search for the attribute on the object itself.\n",
    ">2) If not found, search for the attribute in the object's class.\n",
    ">3) If still not found, search for the attribute in the base classes of the class according to the MRO.\n",
    "The MRO defines the order in which the base classes of a class are searched for a given attribute. \n",
    "It is determined at class creation time and can be viewed using the __mro__ attribute or the mro() method on a class."
   ]
  },
  {
   "cell_type": "code",
   "execution_count": null,
   "id": "dea54d9e",
   "metadata": {},
   "outputs": [],
   "source": [
    "*************************************************************************************************************************"
   ]
  },
  {
   "cell_type": "code",
   "execution_count": null,
   "id": "8c15fa80",
   "metadata": {},
   "outputs": [],
   "source": [
    "Q3. How do you distinguish between a class object and an instance object?"
   ]
  },
  {
   "cell_type": "markdown",
   "id": "94fb2d58",
   "metadata": {},
   "source": [
    "A class is a blueprint or template for creating objects, while an instance is a specific object created from a class. \n",
    "\n",
    ">1) Definition: A class is a general concept or blueprint that defines the properties and behaviors of a group of objects,\n",
    "    while an instance is a specific object created from a class.\n",
    "\n",
    ">2) Usage: A class is used to create objects, while an instance is the object that is created.\n",
    "\n",
    ">3) Memory Allocation: A class is not allocated any memory in the computer's RAM, while an instance of a class is \n",
    "    allocated memory in the computer's RAM.\n",
    "\n",
    ">4)Attributes: A class can have both static and dynamic attributes, while an instance can only have dynamic attributes.\n",
    "\n",
    ">5)Access: A class can be accessed by its name, while an instance can be accessed using a reference or variable \n",
    "    that points to the object.\n",
    "\n",
    ">6)Methods: A class can have both static and instance methods, while an instance can only have instance methods.\n",
    "\n",
    ">7)Creation: A class is created only once, while many instances can be created from the same class."
   ]
  },
  {
   "cell_type": "code",
   "execution_count": null,
   "id": "5efe58ba",
   "metadata": {},
   "outputs": [],
   "source": [
    "*************************************************************************************************************************"
   ]
  },
  {
   "cell_type": "code",
   "execution_count": null,
   "id": "dba4f68c",
   "metadata": {},
   "outputs": [],
   "source": [
    "Q4. What makes the first argument in a class’s method function special?"
   ]
  },
  {
   "cell_type": "code",
   "execution_count": null,
   "id": "96e4201a",
   "metadata": {},
   "outputs": [],
   "source": [
    "The first argument in a class's method function is typically referred to as \"self\" (although it can be named differently). \n",
    "This argument refers to the instance of the class that the method is being called on."
   ]
  },
  {
   "cell_type": "code",
   "execution_count": null,
   "id": "53f7bd6d",
   "metadata": {},
   "outputs": [],
   "source": [
    "*************************************************************************************************************************"
   ]
  },
  {
   "cell_type": "code",
   "execution_count": null,
   "id": "139dbe76",
   "metadata": {},
   "outputs": [],
   "source": [
    "Q5. What is the purpose of the __init__ method?"
   ]
  },
  {
   "cell_type": "markdown",
   "id": "7cf9a65e",
   "metadata": {},
   "source": [
    "In short, the purpose of the __init__ method:\n",
    "\n",
    "> 1)Initialize the object with default values or with values provided by the user.\n",
    "> 2)Set up the initial state of the object by assigning values to instance variables.\n",
    "> 3)Perform any necessary initialization tasks before the object is ready to be used."
   ]
  },
  {
   "cell_type": "code",
   "execution_count": null,
   "id": "0170562f",
   "metadata": {},
   "outputs": [],
   "source": [
    "*************************************************************************************************************************"
   ]
  },
  {
   "cell_type": "code",
   "execution_count": null,
   "id": "c2f5a7a0",
   "metadata": {},
   "outputs": [],
   "source": [
    "Q6. What is the process for creating a class instance?"
   ]
  },
  {
   "cell_type": "markdown",
   "id": "434916f2",
   "metadata": {},
   "source": [
    ">1) Define the class: First, you need to define a class by specifying its name and its attributes and methods. \n",
    "    Attributes are variables that store data, while methods are functions that perform operations on that data.\n",
    "\n",
    ">2) Instantiate the class: To create an instance of the class, you need to use the class name and call it as if \n",
    "    it were a function. This process is also called instantiation. When you instantiate a class, \n",
    "    you create a new object of that class.\n",
    "\n",
    ">3) Assign the instance to a variable: When you instantiate a class, you create a new object of that class. \n",
    "    You need to assign this instance to a variable so that you can access it and work with it later."
   ]
  },
  {
   "cell_type": "code",
   "execution_count": null,
   "id": "0072660d",
   "metadata": {},
   "outputs": [],
   "source": [
    "*************************************************************************************************************************"
   ]
  },
  {
   "cell_type": "code",
   "execution_count": null,
   "id": "4412cbb6",
   "metadata": {},
   "outputs": [],
   "source": [
    "Q7. What is the process for creating a class?"
   ]
  },
  {
   "cell_type": "markdown",
   "id": "aa0c1265",
   "metadata": {},
   "source": [
    "To create a class in Python, you can follow these steps:\n",
    "\n",
    "> 1) Define the class using the class keyword, followed by the name of the class. The name of the class should be \n",
    "written in CamelCase style, starting with an uppercase letter.\n",
    "\n",
    ">2) Define the class attributes, which are variables that are shared by all instances of the class. \n",
    "These attributes are defined inside the class, but outside of any methods.\n",
    "\n",
    "> 3) Define the class methods, which are functions that are associated with the class. \n",
    "These methods are defined inside the class, and can access the class attributes."
   ]
  },
  {
   "cell_type": "code",
   "execution_count": null,
   "id": "97f87b39",
   "metadata": {},
   "outputs": [],
   "source": [
    "*************************************************************************************************************************"
   ]
  },
  {
   "cell_type": "code",
   "execution_count": null,
   "id": "4f8d4b62",
   "metadata": {},
   "outputs": [],
   "source": [
    "Q8. How would you define the superclasses of a class?"
   ]
  },
  {
   "cell_type": "markdown",
   "id": "b04205fa",
   "metadata": {},
   "source": [
    ">1 ) When a class is created, it can inherit attributes and methods from one or more parent classes. \n",
    "The parent class is also called a superclass, and the class that inherits from it is called a subclass.\n",
    "\n",
    ">2) To define a superclass in Python, you can create a new class and define its attributes and methods. \n",
    "Then, you can create a subclass and specify the superclass it should inherit from by passing the superclass as a \n",
    "parameter in the subclass definition."
   ]
  },
  {
   "cell_type": "code",
   "execution_count": null,
   "id": "dae05c72",
   "metadata": {},
   "outputs": [],
   "source": [
    "*************************************************************************************************************************"
   ]
  }
 ],
 "metadata": {
  "kernelspec": {
   "display_name": "Python 3 (ipykernel)",
   "language": "python",
   "name": "python3"
  },
  "language_info": {
   "codemirror_mode": {
    "name": "ipython",
    "version": 3
   },
   "file_extension": ".py",
   "mimetype": "text/x-python",
   "name": "python",
   "nbconvert_exporter": "python",
   "pygments_lexer": "ipython3",
   "version": "3.9.13"
  }
 },
 "nbformat": 4,
 "nbformat_minor": 5
}
