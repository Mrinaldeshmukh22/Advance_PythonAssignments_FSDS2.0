{
 "cells": [
  {
   "cell_type": "code",
   "execution_count": null,
   "id": "c9f49c02",
   "metadata": {},
   "outputs": [],
   "source": [
    "Q1. What are the two latest user-defined exception constraints in Python 3.X?"
   ]
  },
  {
   "cell_type": "markdown",
   "id": "8e9824c1",
   "metadata": {},
   "source": [
    "\n",
    "In Python 3.x, the two latest user-defined exception constraints are:\n",
    "\n",
    "1) cause constraint: This constraint is used to specify the cause of the exception. It is used to link two exceptions, where the occurrence of one exception is the reason for the occurrence of another exception.\n",
    "\n",
    "2) context constraint: This constraint is used to specify the context of the exception. It is used to provide additional information about the exception, such as where and when it occurred, and what other exceptions were raised at the same time.\n",
    "\n",
    "These constraints can be useful for debugging and troubleshooting code."
   ]
  },
  {
   "cell_type": "code",
   "execution_count": null,
   "id": "88821c94",
   "metadata": {},
   "outputs": [],
   "source": [
    "****************************************************************************************************************************"
   ]
  },
  {
   "cell_type": "code",
   "execution_count": null,
   "id": "59b7a71d",
   "metadata": {},
   "outputs": [],
   "source": [
    "Q2. How are class-based exceptions that have been raised matched to handlers?"
   ]
  },
  {
   "cell_type": "markdown",
   "id": "34d29995",
   "metadata": {},
   "source": [
    "In Python, when a class-based exception is raised, it is matched to an appropriate exception handler using the following shortcut way:\n",
    "\n",
    "1) The interpreter searches for an exception handler that matches the type of the exception that has been raised.\n",
    "\n",
    "2) If a handler is not found, the interpreter looks for a handler that matches the exception's base class.\n",
    "\n",
    "3) This process is repeated recursively up the inheritance chain until a matching handler is found.\n",
    "\n",
    "4) If no matching handler is found, the interpreter will terminate the program and print a traceback that shows the chain of function calls that led to the unhandled exception"
   ]
  },
  {
   "cell_type": "code",
   "execution_count": 1,
   "id": "1b0f97de",
   "metadata": {},
   "outputs": [
    {
     "name": "stdout",
     "output_type": "stream",
     "text": [
      "MyException caught: Something went wrong\n"
     ]
    }
   ],
   "source": [
    "class MyException(Exception):\n",
    "    pass\n",
    "\n",
    "try:\n",
    "    raise MyException(\"Something went wrong\")\n",
    "except MyException as e:\n",
    "    print(\"MyException caught:\", e)\n",
    "except Exception as e:\n",
    "    print(\"Exception caught:\", e)"
   ]
  },
  {
   "cell_type": "code",
   "execution_count": null,
   "id": "feb340f8",
   "metadata": {},
   "outputs": [],
   "source": [
    "****************************************************************************************************************************"
   ]
  },
  {
   "cell_type": "code",
   "execution_count": null,
   "id": "4b5fdf71",
   "metadata": {},
   "outputs": [],
   "source": [
    "Q3. Describe two methods for attaching context information to exception artefacts."
   ]
  },
  {
   "cell_type": "markdown",
   "id": "7f342bf5",
   "metadata": {},
   "source": [
    "1) Using the raise statement with a tuple of arguments: You can attach context information to an exception by passing a tuple of arguments to the raise statement. The first argument should be the exception type, and the second argument should be a message string or any other object that you want to attach as context.\n",
    "\n",
    "2) Using the from keyword: You can also attach context information to an exception using the from keyword. This allows you to create a new exception that is linked to the original exception, while also attaching additional context information\n",
    "    "
   ]
  },
  {
   "cell_type": "code",
   "execution_count": 5,
   "id": "07d28289",
   "metadata": {},
   "outputs": [],
   "source": [
    "try:\n",
    "    a==b\n",
    "except Exception as e:\n",
    "    # Attach context information and raise a new exception\n",
    "    raise MyCustomException(\"Something went wrong\") from e"
   ]
  },
  {
   "cell_type": "code",
   "execution_count": 6,
   "id": "91cf2df0",
   "metadata": {},
   "outputs": [],
   "source": [
    "try:\n",
    "    a = 4\n",
    "    b = 5\n",
    "    a==b\n",
    "except Exception as e:\n",
    "    raise ValueError(\"Something went wrong\") from e"
   ]
  },
  {
   "cell_type": "code",
   "execution_count": null,
   "id": "d6e24c87",
   "metadata": {},
   "outputs": [],
   "source": [
    "****************************************************************************************************************************"
   ]
  },
  {
   "cell_type": "code",
   "execution_count": null,
   "id": "7aedbfbb",
   "metadata": {},
   "outputs": [],
   "source": [
    "Q4. Describe two methods for specifying the text of an exception objects error message."
   ]
  },
  {
   "cell_type": "markdown",
   "id": "3aeb973d",
   "metadata": {},
   "source": [
    "1) Using the raise statement with a string argument:\n",
    "You can raise an exception by using the raise statement with a string argument that represents the error message\n",
    "\n",
    "2) Defining a custom exception class with an error message attribute:\n",
    "You can also define your own custom exception class by subclassing the built-in Exception class, and adding an error message attribute to"
   ]
  },
  {
   "cell_type": "markdown",
   "id": "3b9e678e",
   "metadata": {},
   "source": [
    "class MyCustomError(Exception):\n",
    "    def __init__(self, message):\n",
    "        self.message = message\n",
    "\n",
    "raise MyCustomError(\"Something went wrong\")\n"
   ]
  },
  {
   "cell_type": "code",
   "execution_count": 10,
   "id": "bb855873",
   "metadata": {},
   "outputs": [
    {
     "ename": "ValueError",
     "evalue": "Invalid input",
     "output_type": "error",
     "traceback": [
      "\u001b[1;31m---------------------------------------------------------------------------\u001b[0m",
      "\u001b[1;31mValueError\u001b[0m                                Traceback (most recent call last)",
      "\u001b[1;32m~\\AppData\\Local\\Temp\\ipykernel_28888\\2120405369.py\u001b[0m in \u001b[0;36m<module>\u001b[1;34m\u001b[0m\n\u001b[1;32m----> 1\u001b[1;33m \u001b[1;32mraise\u001b[0m \u001b[0mValueError\u001b[0m\u001b[1;33m(\u001b[0m\u001b[1;34m\"Invalid input\"\u001b[0m\u001b[1;33m)\u001b[0m\u001b[1;33m\u001b[0m\u001b[1;33m\u001b[0m\u001b[0m\n\u001b[0m",
      "\u001b[1;31mValueError\u001b[0m: Invalid input"
     ]
    }
   ],
   "source": [
    "raise ValueError(\"Invalid input\")"
   ]
  },
  {
   "cell_type": "code",
   "execution_count": null,
   "id": "b885e371",
   "metadata": {},
   "outputs": [],
   "source": [
    "****************************************************************************************************************************"
   ]
  },
  {
   "cell_type": "code",
   "execution_count": null,
   "id": "dce6b92e",
   "metadata": {},
   "outputs": [],
   "source": [
    "Q5. Why do you no longer use string-based exceptions?"
   ]
  },
  {
   "cell_type": "markdown",
   "id": "ec0c9424",
   "metadata": {},
   "source": [
    "string-based exceptions are no longer used in Python because they have been replaced by more powerful and flexible class-based exceptions, which allow for more precise error messages and more effective error handling.\n",
    "\n",
    "Instead, Python now uses exception classes, which allow for more detailed and specific error messages and make it easier to handle and raise exceptions in a consistent way.\n",
    "\n",
    "\n"
   ]
  },
  {
   "cell_type": "code",
   "execution_count": 12,
   "id": "24f7b4d7",
   "metadata": {},
   "outputs": [
    {
     "ename": "ZeroDivisionError",
     "evalue": "Division by zero",
     "output_type": "error",
     "traceback": [
      "\u001b[1;31m---------------------------------------------------------------------------\u001b[0m",
      "\u001b[1;31mZeroDivisionError\u001b[0m                         Traceback (most recent call last)",
      "\u001b[1;32m~\\AppData\\Local\\Temp\\ipykernel_28888\\2891801470.py\u001b[0m in \u001b[0;36m<module>\u001b[1;34m\u001b[0m\n\u001b[1;32m----> 1\u001b[1;33m \u001b[1;32mraise\u001b[0m \u001b[0mZeroDivisionError\u001b[0m\u001b[1;33m(\u001b[0m\u001b[1;34m\"Division by zero\"\u001b[0m\u001b[1;33m)\u001b[0m\u001b[1;33m\u001b[0m\u001b[1;33m\u001b[0m\u001b[0m\n\u001b[0m",
      "\u001b[1;31mZeroDivisionError\u001b[0m: Division by zero"
     ]
    }
   ],
   "source": [
    "raise ZeroDivisionError(\"Division by zero\")"
   ]
  },
  {
   "cell_type": "code",
   "execution_count": null,
   "id": "a6b85133",
   "metadata": {},
   "outputs": [],
   "source": [
    "****************************************************************************************************************************"
   ]
  },
  {
   "cell_type": "code",
   "execution_count": null,
   "id": "ffe584c5",
   "metadata": {},
   "outputs": [],
   "source": []
  }
 ],
 "metadata": {
  "kernelspec": {
   "display_name": "Python 3 (ipykernel)",
   "language": "python",
   "name": "python3"
  },
  "language_info": {
   "codemirror_mode": {
    "name": "ipython",
    "version": 3
   },
   "file_extension": ".py",
   "mimetype": "text/x-python",
   "name": "python",
   "nbconvert_exporter": "python",
   "pygments_lexer": "ipython3",
   "version": "3.9.13"
  }
 },
 "nbformat": 4,
 "nbformat_minor": 5
}
